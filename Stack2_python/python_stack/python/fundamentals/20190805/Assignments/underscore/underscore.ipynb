{
 "cells": [
  {
   "cell_type": "code",
   "execution_count": 41,
   "metadata": {},
   "outputs": [],
   "source": [
    "class Underscore:\n",
    "    def map(self, iterable, callback) :\n",
    "        for i in range(len(iterable)) :\n",
    "            iterable[i] = callback(iterable[i])\n",
    "        return (iterable)\n",
    "\n",
    "    def find(self, iterable, callback) :\n",
    "#         res = []\n",
    "        for i in range(len(iterable)) :\n",
    "            if (callback(iterable[i])) :\n",
    "#                 res.append(iterable[i])\n",
    "                return (iterable[i])\n",
    "        return (null)\n",
    "\n",
    "    def filter(self, iterable, callback) :\n",
    "        res = []\n",
    "        for i in iterable :\n",
    "            if (callback(i)) :\n",
    "                res.append(i)\n",
    "        return (res)\n",
    "\n",
    "    def reject(self, iterable, callback) : \n",
    "        res = []\n",
    "        for i in iterable :\n",
    "            if not callback(i) :\n",
    "                res.append(i)\n",
    "        return (res)"
   ]
  },
  {
   "cell_type": "code",
   "execution_count": 32,
   "metadata": {},
   "outputs": [
    {
     "data": {
      "text/plain": [
       "[3, 6, 9]"
      ]
     },
     "execution_count": 32,
     "metadata": {},
     "output_type": "execute_result"
    }
   ],
   "source": [
    "_ = Underscore()\n",
    "_.map([1,2,3], lambda x : x*3)"
   ]
  },
  {
   "cell_type": "code",
   "execution_count": 33,
   "metadata": {},
   "outputs": [
    {
     "data": {
      "text/plain": [
       "5"
      ]
     },
     "execution_count": 33,
     "metadata": {},
     "output_type": "execute_result"
    }
   ],
   "source": [
    "_.find([1,2,3,4,5,6], lambda x: x>4)"
   ]
  },
  {
   "cell_type": "code",
   "execution_count": 34,
   "metadata": {},
   "outputs": [
    {
     "data": {
      "text/plain": [
       "[2, 4, 6]"
      ]
     },
     "execution_count": 34,
     "metadata": {},
     "output_type": "execute_result"
    }
   ],
   "source": [
    "_ = Underscore()\n",
    "_.filter([1,2,3,4,5,6], lambda x: x%2==0)"
   ]
  },
  {
   "cell_type": "code",
   "execution_count": 42,
   "metadata": {},
   "outputs": [
    {
     "data": {
      "text/plain": [
       "[1, 3, 5]"
      ]
     },
     "execution_count": 42,
     "metadata": {},
     "output_type": "execute_result"
    }
   ],
   "source": [
    "_ = Underscore()\n",
    "_.reject([1,2,3,4,5,6], lambda x: x%2==0)"
   ]
  },
  {
   "cell_type": "code",
   "execution_count": null,
   "metadata": {},
   "outputs": [],
   "source": []
  }
 ],
 "metadata": {
  "kernelspec": {
   "display_name": "Python 3",
   "language": "python",
   "name": "python3"
  },
  "language_info": {
   "codemirror_mode": {
    "name": "ipython",
    "version": 3
   },
   "file_extension": ".py",
   "mimetype": "text/x-python",
   "name": "python",
   "nbconvert_exporter": "python",
   "pygments_lexer": "ipython3",
   "version": "3.7.4"
  }
 },
 "nbformat": 4,
 "nbformat_minor": 2
}
