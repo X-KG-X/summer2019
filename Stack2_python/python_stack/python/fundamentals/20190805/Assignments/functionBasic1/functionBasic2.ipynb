{
 "cells": [
  {
   "cell_type": "code",
   "execution_count": 3,
   "metadata": {},
   "outputs": [
    {
     "name": "stdout",
     "output_type": "stream",
     "text": [
      "3\n",
      "2\n",
      "1\n",
      "0\n"
     ]
    }
   ],
   "source": [
    "# 1. Countdown - Create a function that accepts a number as an input. Return a new list that counts down by one, from the number (as the 0th element) down to 0 (as the last element).\n",
    "# Example: countdown(5) should return [5,4,3,2,1,0]\n",
    "def countDown(num) :\n",
    "    for x in range(num, -1, -1) :\n",
    "        print (x)\n",
    "countDown(3)"
   ]
  },
  {
   "cell_type": "code",
   "execution_count": 9,
   "metadata": {},
   "outputs": [
    {
     "name": "stdout",
     "output_type": "stream",
     "text": [
      "1\n"
     ]
    },
    {
     "data": {
      "text/plain": [
       "2"
      ]
     },
     "execution_count": 9,
     "metadata": {},
     "output_type": "execute_result"
    }
   ],
   "source": [
    "# 2. Print and Return - Create a function that will receive a list with two numbers. Print the first value and return the second.\n",
    "# Example: print_and_return([1,2]) should print 1 and return 2\n",
    "def printAndReturn(l) :\n",
    "    if (len(l) != 2) :\n",
    "        raise Exception('length of list should be 2')\n",
    "    print (l[0])\n",
    "    return (l[1])\n",
    "printAndReturn([1,2])"
   ]
  },
  {
   "cell_type": "code",
   "execution_count": 10,
   "metadata": {},
   "outputs": [
    {
     "data": {
      "text/plain": [
       "8"
      ]
     },
     "execution_count": 10,
     "metadata": {},
     "output_type": "execute_result"
    }
   ],
   "source": [
    "# 3. First Plus Length - Create a function that accepts a list and returns the sum of the first value in the list plus the list's length.\n",
    "# Example: first_plus_length([1,2,3,4,5]) should return 6 (first value: 1 + length: 5)\n",
    "def firstPlusLen(l) :\n",
    "\tif (len(l) < 1) :\n",
    "\t\traise Exception('list should have at least one element')\n",
    "\treturn (l[0] + len(l))\n",
    "firstPlusLen([3,1,2,4,6])"
   ]
  },
  {
   "cell_type": "code",
   "execution_count": 14,
   "metadata": {},
   "outputs": [
    {
     "data": {
      "text/plain": [
       "[45, 20]"
      ]
     },
     "execution_count": 14,
     "metadata": {},
     "output_type": "execute_result"
    }
   ],
   "source": [
    "def valuesGreaterThanSecond(l) :\n",
    "\tif (len(l) < 2) :\n",
    "\t\traise Exception('list should have at least two elements')\n",
    "\n",
    "\tnewList = [];\n",
    "\tfor x in l :\n",
    "\t\tif (x > l[1]) :\n",
    "\t\t\tnewList.append(x)\n",
    "\treturn (newList)\n",
    "valuesGreaterThanSecond([3,6,1,5,45,4,20])"
   ]
  },
  {
   "cell_type": "code",
   "execution_count": 15,
   "metadata": {},
   "outputs": [
    {
     "data": {
      "text/plain": [
       "[3, 3, 3, 3, 3]"
      ]
     },
     "execution_count": 15,
     "metadata": {},
     "output_type": "execute_result"
    }
   ],
   "source": [
    "[3] *5"
   ]
  },
  {
   "cell_type": "code",
   "execution_count": 16,
   "metadata": {},
   "outputs": [
    {
     "data": {
      "text/plain": [
       "[7, 7, 7, 7]"
      ]
     },
     "execution_count": 16,
     "metadata": {},
     "output_type": "execute_result"
    }
   ],
   "source": [
    "# 5. This Length, That Value - Write a function that accepts two integers as parameters: size and value. The function should create and return a list whose length is equal to the given size, and whose values are all the given value.\n",
    "# Example: length_and_value(4,7) should return [7,7,7,7]\n",
    "# Example: length_and_value(6,2) should return [2,2,2,2,2,2]\n",
    "def thisLenThatVal(size, val) :\n",
    "\tnewList = [val] * size\n",
    "\treturn (newList)\n",
    "thisLenThatVal(4,7)\n"
   ]
  },
  {
   "cell_type": "code",
   "execution_count": null,
   "metadata": {},
   "outputs": [],
   "source": []
  }
 ],
 "metadata": {
  "kernelspec": {
   "display_name": "Python 3",
   "language": "python",
   "name": "python3"
  },
  "language_info": {
   "codemirror_mode": {
    "name": "ipython",
    "version": 3
   },
   "file_extension": ".py",
   "mimetype": "text/x-python",
   "name": "python",
   "nbconvert_exporter": "python",
   "pygments_lexer": "ipython3",
   "version": "3.7.4"
  }
 },
 "nbformat": 4,
 "nbformat_minor": 2
}
