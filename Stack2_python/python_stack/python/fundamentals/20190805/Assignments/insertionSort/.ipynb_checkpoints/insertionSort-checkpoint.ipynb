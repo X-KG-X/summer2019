{
 "cells": [
  {
   "cell_type": "code",
   "execution_count": 23,
   "metadata": {},
   "outputs": [
    {
     "name": "stdout",
     "output_type": "stream",
     "text": [
      "[iteration]: 1\n",
      "swap :  3 4\n",
      "[iteration]: 2\n",
      "swap :  2 4\n",
      "swap :  2 3\n",
      "[iteration]: 3\n",
      "[iteration]: 4\n",
      "swap :  1 7\n",
      "swap :  1 4\n",
      "swap :  1 3\n",
      "swap :  1 2\n",
      "[1, 2, 3, 4, 7]\n"
     ]
    }
   ],
   "source": [
    "# insertionSort\n",
    "def insertionSort(arr) :\n",
    "    for i in range(1, len(arr)) :\n",
    "        print ('[iteration]:',i)\n",
    "        curVal = arr[i]\n",
    "        while ((curVal < arr[i-1]) and (i-1 >= 0)) :\n",
    "            print (\"swap : \", curVal, arr[i-1])\n",
    "            arr[i-1], arr[i] = curVal, arr[i-1]\n",
    "            i -= 1\n",
    "    return (arr)\n",
    "\n",
    "print (insertionSort([4,3,2,7,1]))"
   ]
  }
 ],
 "metadata": {
  "kernelspec": {
   "display_name": "Python 3",
   "language": "python",
   "name": "python3"
  },
  "language_info": {
   "codemirror_mode": {
    "name": "ipython",
    "version": 3
   },
   "file_extension": ".py",
   "mimetype": "text/x-python",
   "name": "python",
   "nbconvert_exporter": "python",
   "pygments_lexer": "ipython3",
   "version": "3.7.4"
  }
 },
 "nbformat": 4,
 "nbformat_minor": 2
}
