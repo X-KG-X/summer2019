{
 "cells": [
  {
   "cell_type": "code",
   "execution_count": 11,
   "metadata": {},
   "outputs": [
    {
     "name": "stdout",
     "output_type": "stream",
     "text": [
      "0-th iteration\n",
      "swap :  3 and 2\n",
      "1-th iteration\n",
      "swap :  5 and 3\n",
      "2-th iteration\n",
      "swap :  5 and 4\n",
      "3-th iteration\n",
      "swap :  6 and 5\n",
      "[2, 3, 4, 5, 6]\n"
     ]
    }
   ],
   "source": [
    "# selection sort\n",
    "arr = [3,5,2,6,4]\n",
    "for i in range(len(arr)-1) :\n",
    "    print (f\"{i}-th iteration\")\n",
    "    min_index = i\n",
    "    for j in range(i, len(arr)) :\n",
    "        if (arr[min_index] > arr[j]) :\n",
    "            min_index = j\n",
    "    print(\"swap : \", arr[i], \"and\", arr[min_index])\n",
    "    arr[i], arr[min_index] = arr[min_index], arr[i]\n",
    "\n",
    "print (arr)"
   ]
  },
  {
   "cell_type": "code",
   "execution_count": 13,
   "metadata": {},
   "outputs": [
    {
     "name": "stdout",
     "output_type": "stream",
     "text": [
      "[2, 3, 4, 5, 6]\n"
     ]
    }
   ],
   "source": [
    "def selection_sort(arr) :\n",
    "\tfor i in range(len(arr)) :\n",
    "\t\tmin_index = i\n",
    "\t\tfor j in range(i, len(arr)) :\n",
    "\t\t\tif (arr[min_index] > arr[j]) :\n",
    "\t\t\t\tmin_index = j\n",
    "\t\tarr[i], arr[min_index] = arr[min_index], arr[i]\n",
    "\treturn (arr)\n",
    "arr = [3,6,2,5,4]\n",
    "print (selection_sort(arr))\n"
   ]
  }
 ],
 "metadata": {
  "kernelspec": {
   "display_name": "Python 3",
   "language": "python",
   "name": "python3"
  },
  "language_info": {
   "codemirror_mode": {
    "name": "ipython",
    "version": 3
   },
   "file_extension": ".py",
   "mimetype": "text/x-python",
   "name": "python",
   "nbconvert_exporter": "python",
   "pygments_lexer": "ipython3",
   "version": "3.7.4"
  }
 },
 "nbformat": 4,
 "nbformat_minor": 2
}
