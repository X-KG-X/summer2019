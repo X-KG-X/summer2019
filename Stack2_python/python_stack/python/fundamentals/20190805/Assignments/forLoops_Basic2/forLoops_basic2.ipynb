{
 "cells": [
  {
   "cell_type": "code",
   "execution_count": 4,
   "metadata": {},
   "outputs": [
    {
     "data": {
      "text/plain": [
       "[-1, 'big', 'big', -5]"
      ]
     },
     "execution_count": 4,
     "metadata": {},
     "output_type": "execute_result"
    }
   ],
   "source": [
    "# 1. Biggie Size - Given a list, write a function that changes all positive numbers in the list to \"big\".\n",
    "# Example: biggie_size([-1, 3, 5, -5]) returns that same list, but whose values are now [-1, \"big\", \"big\", -5]\n",
    "def biggie_size(l) :\n",
    "\tfor i in range(len(l)) :\n",
    "\t\tif (l[i] > 0) :\n",
    "\t\t\tl[i] = \"big\"\n",
    "\treturn (l)\n",
    "\n",
    "biggie_size([-1, 3, 5, -5])"
   ]
  },
  {
   "cell_type": "code",
   "execution_count": 7,
   "metadata": {},
   "outputs": [
    {
     "data": {
      "text/plain": [
       "[-1, 1, 1, 3]"
      ]
     },
     "execution_count": 7,
     "metadata": {},
     "output_type": "execute_result"
    }
   ],
   "source": [
    "\n",
    "# 2. Count Positives - Given a list of numbers, create a function to replace the last value with the number of positive values. (Note that zero is not considered to be a positive number).\n",
    "# Example: count_positives([-1,1,1,1]) changes the original list to [-1,1,1,3] and returns it\n",
    "# Example: count_positives([1,6,-4,-2,-7,-2]) changes the list to [1,6,-4,-2,-7,2] and returns it\n",
    "def count_positives(l) :\n",
    "\tif (len(l) < 1) :\n",
    "\t\traise Exception(\"list should have at least one element\")\n",
    "\tcntPos = 0\n",
    "\tfor i in range(len(l)) :\n",
    "\t\tif (l[i] > 0) :\n",
    "\t\t\tcntPos += 1;\n",
    "\tl[len(l)-1] = cntPos\n",
    "\treturn (l)\n",
    "\n",
    "count_positives([-1,1,1,1])"
   ]
  },
  {
   "cell_type": "code",
   "execution_count": 9,
   "metadata": {},
   "outputs": [
    {
     "name": "stdout",
     "output_type": "stream",
     "text": [
      "[-1, 1, 1, 3]\n",
      "[1, 6, -4, -2, -7, 3]\n"
     ]
    }
   ],
   "source": [
    "print(count_positives([-1,1,1,1]))\n",
    "print(count_positives([1,6,-4,-2,-7,2]))"
   ]
  },
  {
   "cell_type": "code",
   "execution_count": 12,
   "metadata": {},
   "outputs": [
    {
     "name": "stdout",
     "output_type": "stream",
     "text": [
      "10\n",
      "7\n"
     ]
    }
   ],
   "source": [
    "# S3. sum Total - Create a function that takes a list and returns the sum of all the values in the array.\n",
    "# Example: sum_total([1,2,3,4]) should return 10\n",
    "# Example: sum_total([6,3,-2]) should return 7\n",
    "def sum_total(l) :\n",
    "\treturn (sum(l))\n",
    "print (sum_total([1,2,3,4]))\n",
    "print (sum_total([6,3,-2]))"
   ]
  },
  {
   "cell_type": "code",
   "execution_count": 13,
   "metadata": {},
   "outputs": [
    {
     "name": "stdout",
     "output_type": "stream",
     "text": [
      "2.5\n"
     ]
    }
   ],
   "source": [
    "# 4. Average - Create a function that takes a list and returns the average of all the values.\n",
    "# Example: average([1,2,3,4]) should return 2.5\n",
    "def average(l) :\n",
    "\tif (len(l) < 1) :\n",
    "\t\traise Exception(\"no item!\")\n",
    "\ttotalSum = 0;\n",
    "\tfor x in l :\n",
    "\t\ttotalSum += x\n",
    "\treturn (totalSum / len(l))\n",
    "\n",
    "print (average([1,2,3,4]))"
   ]
  },
  {
   "cell_type": "code",
   "execution_count": 14,
   "metadata": {},
   "outputs": [
    {
     "name": "stdout",
     "output_type": "stream",
     "text": [
      "4\n",
      "0\n"
     ]
    }
   ],
   "source": [
    "# 5. Length - Create a function that takes a list and returns the length of the list.\n",
    "# Example: length([37,2,1,-9]) should return 4\n",
    "# Example: length([]) should return 0\n",
    "def getLength(l) :\n",
    "\treturn (len(l))\n",
    "print (getLength([37,2,1,-9]))\n",
    "print (getLength([]))"
   ]
  },
  {
   "cell_type": "code",
   "execution_count": 18,
   "metadata": {},
   "outputs": [
    {
     "name": "stdout",
     "output_type": "stream",
     "text": [
      "-9\n",
      "False\n"
     ]
    }
   ],
   "source": [
    "# 6. Minimum - Create a function that takes a list of numbers and returns the minimum value in the list. If the list is empty, have the function return False.\n",
    "# Example: minimum([37,2,1,-9]) should return -9\n",
    "# Example: minimum([]) should return False\n",
    "def minimum(l) :\n",
    "\tif (len(l) == 0) :\n",
    "\t\treturn False\n",
    "\tcurMin = l[0];\n",
    "\tfor x in l :\n",
    "\t\tif (x < curMin) :\n",
    "\t\t\tcurMin = x\n",
    "\treturn (curMin)\n",
    "\n",
    "print (minimum([37,2,1,-9]))\n",
    "print (minimum([]))"
   ]
  },
  {
   "cell_type": "code",
   "execution_count": 20,
   "metadata": {},
   "outputs": [
    {
     "name": "stdout",
     "output_type": "stream",
     "text": [
      "37\n",
      "False\n"
     ]
    }
   ],
   "source": [
    "# 7. Maximum - Create a function that takes a list and returns the maximum value in the array. If the list is empty, have the function return False.\n",
    "# Example: maximum([37,2,1,-9]) should return 37\n",
    "# Example: maximum([]) should return False\n",
    "def maximum(l) :\n",
    "\tif (len(l) == 0) :\n",
    "\t\treturn False\n",
    "\tcurMax = l[0];\n",
    "\tfor x in l :\n",
    "\t\tif (x > curMax) :\n",
    "\t\t\tcurMax = x\n",
    "\treturn (curMax)\n",
    "\n",
    "print (maximum([37,2,1,-9]))\n",
    "print (maximum([]))"
   ]
  },
  {
   "cell_type": "code",
   "execution_count": 25,
   "metadata": {},
   "outputs": [
    {
     "data": {
      "text/plain": [
       "{'sumTotal': 31, 'average': 7.75, 'minimum': -9, 'maximum': 37, 'length': 4}"
      ]
     },
     "execution_count": 25,
     "metadata": {},
     "output_type": "execute_result"
    }
   ],
   "source": [
    "# 8. Ultimate Analysis - Create a function that takes a list and returns a dictionary that has the sumTotal, average, minimum, maximum and length of the list.\n",
    "# Example: ultimate_analysis([37,2,1,-9]) should return {'sumTotal': 31, 'average': 7.75, 'minimum': -9, 'maximum': 37, 'length': 4 }\n",
    "def ultimate_analysis(l) :\n",
    "\tif (len(l) == 0) :\n",
    "\t\treturn False\n",
    "\ttotalSum, average = 0, 0\n",
    "\tminimum, maximum = l[0], l[0]\n",
    "\n",
    "\tfor x in l :\n",
    "\t\tif (x > maximum) :\n",
    "\t\t\tmaximum = x\n",
    "\t\telif (x < minimum) :\n",
    "\t\t\tminimum = x\n",
    "\t\ttotalSum += x\n",
    "\n",
    "\treturn {'sumTotal':totalSum, 'average':totalSum/len(l),\n",
    "\t\t\t'minimum':minimum, 'maximum':maximum, 'length':len(l)}\n",
    "\n",
    "ultimate_analysis([37,2,1,-9])"
   ]
  },
  {
   "cell_type": "code",
   "execution_count": 30,
   "metadata": {},
   "outputs": [
    {
     "data": {
      "text/plain": [
       "[-9, 1, 2, 37]"
      ]
     },
     "execution_count": 30,
     "metadata": {},
     "output_type": "execute_result"
    }
   ],
   "source": [
    "# 9. Reverse List - Create a function that takes a list and return that list with values reversed. Do this without creating a second list. (This challenge is known to appear during basic technical interviews.)\n",
    "# Example: reverse_list([37,2,1,-9]) should return [-9,1,2,37]\n",
    "def reverse_list(l) :\n",
    "\tn = len(l)\n",
    "\tfor i in range(int(n/2)) :\n",
    "\t\ttemp = l[n-(i+1)]\n",
    "\t\tl[n-(i+1)] = l[i]\n",
    "\t\tl[i] = temp\n",
    "\treturn (l)\n",
    "\n",
    "reverse_list([37,2,1,-9])\n",
    "\n"
   ]
  },
  {
   "cell_type": "code",
   "execution_count": 29,
   "metadata": {},
   "outputs": [
    {
     "data": {
      "text/plain": [
       "1"
      ]
     },
     "execution_count": 29,
     "metadata": {},
     "output_type": "execute_result"
    }
   ],
   "source": [
    "int(3/2)"
   ]
  },
  {
   "cell_type": "code",
   "execution_count": null,
   "metadata": {},
   "outputs": [],
   "source": []
  },
  {
   "cell_type": "code",
   "execution_count": null,
   "metadata": {},
   "outputs": [],
   "source": []
  },
  {
   "cell_type": "code",
   "execution_count": null,
   "metadata": {},
   "outputs": [],
   "source": []
  },
  {
   "cell_type": "code",
   "execution_count": null,
   "metadata": {},
   "outputs": [],
   "source": []
  },
  {
   "cell_type": "code",
   "execution_count": null,
   "metadata": {},
   "outputs": [],
   "source": []
  }
 ],
 "metadata": {
  "kernelspec": {
   "display_name": "Python 3",
   "language": "python",
   "name": "python3"
  },
  "language_info": {
   "codemirror_mode": {
    "name": "ipython",
    "version": 3
   },
   "file_extension": ".py",
   "mimetype": "text/x-python",
   "name": "python",
   "nbconvert_exporter": "python",
   "pygments_lexer": "ipython3",
   "version": "3.7.4"
  }
 },
 "nbformat": 4,
 "nbformat_minor": 2
}
