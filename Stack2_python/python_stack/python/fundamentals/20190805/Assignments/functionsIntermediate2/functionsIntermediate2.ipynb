{
 "cells": [
  {
   "cell_type": "code",
   "execution_count": 2,
   "metadata": {},
   "outputs": [
    {
     "name": "stdout",
     "output_type": "stream",
     "text": [
      "[[5, 2, 3], [15, 8, 9]]\n"
     ]
    }
   ],
   "source": [
    "# 1. Update Values in Dictionaries and Lists\n",
    "x = [ [5,2,3], [10,8,9] ] \n",
    "students = [\n",
    "     {'first_name':  'Michael', 'last_name' : 'Jordan'},\n",
    "     {'first_name' : 'John', 'last_name' : 'Rosales'}\n",
    "]\n",
    "sports_directory = {\n",
    "    'basketball' : ['Kobe', 'Jordan', 'James', 'Curry'],\n",
    "    'soccer' : ['Messi', 'Ronaldo', 'Rooney']\n",
    "}\n",
    "z = [ {'x': 10, 'y': 20} ]\n",
    "\n",
    "# Change the value 10 in x to 15. Once you're done, x should now be [ [5,2,3], [15,8,9] ].\n",
    "for row_index in range(len(x)) :\n",
    "\tfor item_index in range(len(x[row_index])) :\n",
    "\t\tif x[row_index][item_index] == 10 :\n",
    "\t\t\tx[row_index][item_index] = 15\n",
    "print (x)"
   ]
  },
  {
   "cell_type": "code",
   "execution_count": 3,
   "metadata": {},
   "outputs": [
    {
     "name": "stdout",
     "output_type": "stream",
     "text": [
      "[{'first_name': 'Michael', 'last_name': 'Bryant'}, {'first_name': 'John', 'last_name': 'Rosales'}]\n"
     ]
    }
   ],
   "source": [
    "students[0]['last_name'] = 'Bryant'\n",
    "print (students)"
   ]
  },
  {
   "cell_type": "code",
   "execution_count": 5,
   "metadata": {},
   "outputs": [
    {
     "name": "stdout",
     "output_type": "stream",
     "text": [
      "{'basketball': ['Kobe', 'Jordan', 'James', 'Curry'], 'soccer': ['Andres', 'Ronaldo', 'Rooney']}\n"
     ]
    }
   ],
   "source": [
    "for i, soccer_player in enumerate(sports_directory['soccer']) :\n",
    "\tif (sports_directory['soccer'][i] == 'Messi') :\n",
    "\t\tsports_directory['soccer'][i] = 'Andres'\n",
    "print (sports_directory)"
   ]
  },
  {
   "cell_type": "code",
   "execution_count": 8,
   "metadata": {},
   "outputs": [
    {
     "name": "stdout",
     "output_type": "stream",
     "text": [
      "[{'x': 10, 'y': 30}]\n"
     ]
    }
   ],
   "source": [
    "for key, value in z[0].items() :\n",
    "\tif z[0][key] == 20 :\n",
    "\t\tz[0][key] = 30\n",
    "print (z)"
   ]
  },
  {
   "cell_type": "code",
   "execution_count": null,
   "metadata": {},
   "outputs": [],
   "source": [
    "#2. Iterate Through a List of Dictionaries"
   ]
  },
  {
   "cell_type": "code",
   "execution_count": 58,
   "metadata": {
    "scrolled": true
   },
   "outputs": [
    {
     "name": "stdout",
     "output_type": "stream",
     "text": [
      "first_name : Michael, last_name : Jordan\n",
      "first_name : John, last_name : Rosales\n",
      "first_name : Mark, last_name : Guillen\n",
      "first_name : KB, last_name : Tonel\n"
     ]
    }
   ],
   "source": [
    "#2. Iterate Through a List of Dictionaries\n",
    "def iterateDictionary(d) :\n",
    "\tfor row in d:\n",
    "\t\titem_str_list = [];\n",
    "\t\tfor key, value in row.items() :\n",
    "\t\t\t# itemStr += f\"{key} - {value}\"\n",
    "\t\t\titem_str_list.append(f\"{key} : {value}\")\n",
    "\t\t\t# print (key, '-', value, end='')\n",
    "\t\t# print()\n",
    "\t\t# print (itemStr)\n",
    "\t\tprint (\", \".join(item_str_list))\n",
    "students = [\n",
    "         {'first_name':  'Michael', 'last_name' : 'Jordan'},\n",
    "         {'first_name' : 'John', 'last_name' : 'Rosales'},\n",
    "         {'first_name' : 'Mark', 'last_name' : 'Guillen'},\n",
    "         {'first_name' : 'KB', 'last_name' : 'Tonel'}\n",
    "    ]\n",
    "iterateDictionary(students) "
   ]
  },
  {
   "cell_type": "code",
   "execution_count": 60,
   "metadata": {
    "scrolled": true
   },
   "outputs": [
    {
     "name": "stdout",
     "output_type": "stream",
     "text": [
      "Michael\n",
      "John\n",
      "Mark\n",
      "KB\n",
      "Jordan\n",
      "Rosales\n",
      "Guillen\n",
      "Tonel\n"
     ]
    },
    {
     "ename": "Exception",
     "evalue": "key_name does not exist",
     "output_type": "error",
     "traceback": [
      "\u001b[0;31m---------------------------------------------------------------------------\u001b[0m",
      "\u001b[0;31mKeyError\u001b[0m                                  Traceback (most recent call last)",
      "\u001b[0;32m<ipython-input-60-c0e72cfec689>\u001b[0m in \u001b[0;36miterateDictionary2\u001b[0;34m(key_name, d)\u001b[0m\n\u001b[1;32m      4\u001b[0m                 \u001b[0;32mtry\u001b[0m \u001b[0;34m:\u001b[0m\u001b[0;34m\u001b[0m\u001b[0;34m\u001b[0m\u001b[0m\n\u001b[0;32m----> 5\u001b[0;31m                         \u001b[0mprint\u001b[0m \u001b[0;34m(\u001b[0m\u001b[0mitem\u001b[0m\u001b[0;34m[\u001b[0m\u001b[0mkey_name\u001b[0m\u001b[0;34m]\u001b[0m\u001b[0;34m)\u001b[0m\u001b[0;34m\u001b[0m\u001b[0;34m\u001b[0m\u001b[0m\n\u001b[0m\u001b[1;32m      6\u001b[0m                 \u001b[0;32mexcept\u001b[0m \u001b[0;34m:\u001b[0m\u001b[0;34m\u001b[0m\u001b[0;34m\u001b[0m\u001b[0m\n",
      "\u001b[0;31mKeyError\u001b[0m: 'last_name2'",
      "\nDuring handling of the above exception, another exception occurred:\n",
      "\u001b[0;31mException\u001b[0m                                 Traceback (most recent call last)",
      "\u001b[0;32m<ipython-input-60-c0e72cfec689>\u001b[0m in \u001b[0;36m<module>\u001b[0;34m\u001b[0m\n\u001b[1;32m      9\u001b[0m \u001b[0miterateDictionary2\u001b[0m\u001b[0;34m(\u001b[0m\u001b[0;34m'first_name'\u001b[0m\u001b[0;34m,\u001b[0m \u001b[0mstudents\u001b[0m\u001b[0;34m)\u001b[0m\u001b[0;34m\u001b[0m\u001b[0;34m\u001b[0m\u001b[0m\n\u001b[1;32m     10\u001b[0m \u001b[0miterateDictionary2\u001b[0m\u001b[0;34m(\u001b[0m\u001b[0;34m'last_name'\u001b[0m\u001b[0;34m,\u001b[0m \u001b[0mstudents\u001b[0m\u001b[0;34m)\u001b[0m\u001b[0;34m\u001b[0m\u001b[0;34m\u001b[0m\u001b[0m\n\u001b[0;32m---> 11\u001b[0;31m \u001b[0miterateDictionary2\u001b[0m\u001b[0;34m(\u001b[0m\u001b[0;34m'last_name2'\u001b[0m\u001b[0;34m,\u001b[0m \u001b[0mstudents\u001b[0m\u001b[0;34m)\u001b[0m\u001b[0;34m\u001b[0m\u001b[0;34m\u001b[0m\u001b[0m\n\u001b[0m\u001b[1;32m     12\u001b[0m \u001b[0;34m\u001b[0m\u001b[0m\n\u001b[1;32m     13\u001b[0m \u001b[0;34m\u001b[0m\u001b[0m\n",
      "\u001b[0;32m<ipython-input-60-c0e72cfec689>\u001b[0m in \u001b[0;36miterateDictionary2\u001b[0;34m(key_name, d)\u001b[0m\n\u001b[1;32m      5\u001b[0m                         \u001b[0mprint\u001b[0m \u001b[0;34m(\u001b[0m\u001b[0mitem\u001b[0m\u001b[0;34m[\u001b[0m\u001b[0mkey_name\u001b[0m\u001b[0;34m]\u001b[0m\u001b[0;34m)\u001b[0m\u001b[0;34m\u001b[0m\u001b[0;34m\u001b[0m\u001b[0m\n\u001b[1;32m      6\u001b[0m                 \u001b[0;32mexcept\u001b[0m \u001b[0;34m:\u001b[0m\u001b[0;34m\u001b[0m\u001b[0;34m\u001b[0m\u001b[0m\n\u001b[0;32m----> 7\u001b[0;31m                         \u001b[0;32mraise\u001b[0m \u001b[0mException\u001b[0m \u001b[0;34m(\u001b[0m\u001b[0;34m\"key_name does not exist\"\u001b[0m\u001b[0;34m)\u001b[0m\u001b[0;34m\u001b[0m\u001b[0;34m\u001b[0m\u001b[0m\n\u001b[0m\u001b[1;32m      8\u001b[0m \u001b[0;34m\u001b[0m\u001b[0m\n\u001b[1;32m      9\u001b[0m \u001b[0miterateDictionary2\u001b[0m\u001b[0;34m(\u001b[0m\u001b[0;34m'first_name'\u001b[0m\u001b[0;34m,\u001b[0m \u001b[0mstudents\u001b[0m\u001b[0;34m)\u001b[0m\u001b[0;34m\u001b[0m\u001b[0;34m\u001b[0m\u001b[0m\n",
      "\u001b[0;31mException\u001b[0m: key_name does not exist"
     ]
    }
   ],
   "source": [
    "#3. Get Values From a List of Dictionaries\n",
    "def iterateDictionary2(key_name, d) :\n",
    "\tfor item in d :\n",
    "\t\ttry :\n",
    "\t\t\tprint (item[key_name])\n",
    "\t\texcept :\n",
    "\t\t\traise Exception (\"key_name does not exist\")\n",
    "\n",
    "iterateDictionary2('first_name', students)\n",
    "iterateDictionary2('last_name', students) \n",
    "iterateDictionary2('last_name2', students) \n",
    "\n",
    "\n"
   ]
  },
  {
   "cell_type": "code",
   "execution_count": 63,
   "metadata": {},
   "outputs": [
    {
     "name": "stdout",
     "output_type": "stream",
     "text": [
      "7 LOCATIONS\n",
      "San Jose\n",
      "Seattle\n",
      "Dallas\n",
      "Chicago\n",
      "Tulsa\n",
      "DC\n",
      "Burbank\n",
      "\n",
      "8 INSTRUCTORS\n",
      "Michael\n",
      "Amy\n",
      "Eduardo\n",
      "Josh\n",
      "Graham\n",
      "Patrick\n",
      "Minh\n",
      "Devon\n",
      "\n"
     ]
    }
   ],
   "source": [
    "# 4. Iterate Through a Dictionary with List Values\n",
    "# Create a function printInfo(some_dict) that given a dictionary whose values \n",
    "# are all lists, prints the name of each key along with the size of its list, \n",
    "# and then prints the associated values within each key's list. For example:\n",
    "\n",
    "def printInfo(some_dict) :\n",
    "\tfor key in some_dict :\n",
    "\t\tprint (len(some_dict[key]), key.upper())\n",
    "\n",
    "\t\tfor item in some_dict[key] :\n",
    "\t\t\tprint (item)\n",
    "\n",
    "\t\tprint ()\n",
    "\n",
    "dojo = {\n",
    "   'locations': ['San Jose', 'Seattle', 'Dallas', 'Chicago', 'Tulsa', 'DC', 'Burbank'],\n",
    "   'instructors': ['Michael', 'Amy', 'Eduardo', 'Josh', 'Graham', 'Patrick', 'Minh', 'Devon']\n",
    "}\n",
    "printInfo(dojo)"
   ]
  },
  {
   "cell_type": "code",
   "execution_count": null,
   "metadata": {},
   "outputs": [],
   "source": []
  },
  {
   "cell_type": "code",
   "execution_count": null,
   "metadata": {},
   "outputs": [],
   "source": []
  },
  {
   "cell_type": "code",
   "execution_count": null,
   "metadata": {},
   "outputs": [],
   "source": []
  },
  {
   "cell_type": "code",
   "execution_count": null,
   "metadata": {},
   "outputs": [],
   "source": []
  },
  {
   "cell_type": "code",
   "execution_count": null,
   "metadata": {},
   "outputs": [],
   "source": []
  },
  {
   "cell_type": "code",
   "execution_count": null,
   "metadata": {},
   "outputs": [],
   "source": []
  },
  {
   "cell_type": "code",
   "execution_count": null,
   "metadata": {},
   "outputs": [],
   "source": []
  }
 ],
 "metadata": {
  "kernelspec": {
   "display_name": "Python 3",
   "language": "python",
   "name": "python3"
  },
  "language_info": {
   "codemirror_mode": {
    "name": "ipython",
    "version": 3
   },
   "file_extension": ".py",
   "mimetype": "text/x-python",
   "name": "python",
   "nbconvert_exporter": "python",
   "pygments_lexer": "ipython3",
   "version": "3.7.4"
  }
 },
 "nbformat": 4,
 "nbformat_minor": 2
}
