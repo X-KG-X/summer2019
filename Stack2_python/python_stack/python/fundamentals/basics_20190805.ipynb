{
 "cells": [
  {
   "cell_type": "code",
   "execution_count": 1,
   "metadata": {},
   "outputs": [],
   "source": [
    "# 20190805"
   ]
  },
  {
   "cell_type": "code",
   "execution_count": 7,
   "metadata": {},
   "outputs": [
    {
     "name": "stdout",
     "output_type": "stream",
     "text": [
      "Francis\n",
      "Rozen\n",
      "['KB', 'Oliver']\n"
     ]
    }
   ],
   "source": [
    "# list / pop\n",
    "ninjas = ['Rozen', 'KB', 'Oliver', 'Francis']\n",
    "print (ninjas.pop()) # pop : the last element\n",
    "print (ninjas.pop(0)) # pop the element at the passed index\n",
    "print (ninjas)"
   ]
  },
  {
   "cell_type": "code",
   "execution_count": 8,
   "metadata": {},
   "outputs": [
    {
     "name": "stdout",
     "output_type": "stream",
     "text": [
      "{'name': 'John', 'age': 38}\n",
      "John\n",
      "{'age': 38}\n"
     ]
    }
   ],
   "source": [
    "# dictionary / pop\n",
    "new_person = {'name' : \"John\", 'age': 38}\n",
    "print (new_person)\n",
    "print (new_person.pop('name'))\n",
    "print (new_person)"
   ]
  },
  {
   "cell_type": "code",
   "execution_count": 9,
   "metadata": {},
   "outputs": [
    {
     "name": "stdout",
     "output_type": "stream",
     "text": [
      "<class 'dict'>\n"
     ]
    }
   ],
   "source": [
    "# type\n",
    "print (type(new_person))"
   ]
  },
  {
   "cell_type": "code",
   "execution_count": 11,
   "metadata": {},
   "outputs": [
    {
     "name": "stdout",
     "output_type": "stream",
     "text": [
      "1\n",
      "2\n"
     ]
    }
   ],
   "source": [
    "# len\n",
    "print (len(new_person))\n",
    "new_person = {'name' : \"John\", 'age': 38}\n",
    "print (len(new_person))"
   ]
  },
  {
   "cell_type": "code",
   "execution_count": 21,
   "metadata": {},
   "outputs": [
    {
     "name": "stdout",
     "output_type": "stream",
     "text": [
      "0\n",
      "1\n",
      "2\n"
     ]
    }
   ],
   "source": [
    "for x in range(0,3,1) :\n",
    "    print (x)"
   ]
  },
  {
   "cell_type": "code",
   "execution_count": 23,
   "metadata": {},
   "outputs": [
    {
     "name": "stdout",
     "output_type": "stream",
     "text": [
      "0\n",
      "1\n",
      "2\n"
     ]
    }
   ],
   "source": [
    "for x in range(0,3) :\n",
    "    print (x)"
   ]
  },
  {
   "cell_type": "code",
   "execution_count": 24,
   "metadata": {},
   "outputs": [
    {
     "name": "stdout",
     "output_type": "stream",
     "text": [
      "0\n",
      "1\n",
      "2\n"
     ]
    }
   ],
   "source": [
    "for x in range(3) :\n",
    "    print (x)"
   ]
  },
  {
   "cell_type": "code",
   "execution_count": 33,
   "metadata": {},
   "outputs": [
    {
     "name": "stdout",
     "output_type": "stream",
     "text": [
      "abc\n",
      "123\n",
      "ds\n",
      "0 abc\n",
      "1 123\n",
      "2 ds\n",
      "0 :  abc\n",
      "1 :  123\n",
      "2 :  ds\n"
     ]
    }
   ],
   "source": [
    "# list iteration\n",
    "my_list = [\"abc\", 123, \"ds\"]\n",
    "for x in my_list :\n",
    "    print (x)\n",
    "    \n",
    "for r,x in enumerate(my_list) :\n",
    "    print (r, x)\n",
    "    \n",
    "for i in range(len(my_list)) :\n",
    "    print (i, \": \", my_list[i])"
   ]
  },
  {
   "cell_type": "code",
   "execution_count": 35,
   "metadata": {},
   "outputs": [
    {
     "name": "stdout",
     "output_type": "stream",
     "text": [
      "name HY\n",
      "age 0\n"
     ]
    }
   ],
   "source": [
    "# dict iteration\n",
    "my_dict = {'name': \"HY\", 'age' : \"0\"}\n",
    "for k in my_dict :\n",
    "    print (k, my_dict[k])"
   ]
  },
  {
   "cell_type": "code",
   "execution_count": null,
   "metadata": {},
   "outputs": [],
   "source": [
    "### break vs continue\n",
    "# Break : exits the current loop prematurely, resuming execution at the first post-loop statement.\n",
    "# Continue : immediately returns control to the beginning of the loop.== \n",
    "#  continue statement rjects, skips all the remaning statements in the current iteration of the loop."
   ]
  },
  {
   "cell_type": "code",
   "execution_count": null,
   "metadata": {},
   "outputs": [],
   "source": []
  },
  {
   "cell_type": "code",
   "execution_count": null,
   "metadata": {},
   "outputs": [],
   "source": []
  },
  {
   "cell_type": "code",
   "execution_count": null,
   "metadata": {},
   "outputs": [],
   "source": []
  },
  {
   "cell_type": "code",
   "execution_count": null,
   "metadata": {},
   "outputs": [],
   "source": []
  },
  {
   "cell_type": "code",
   "execution_count": null,
   "metadata": {},
   "outputs": [],
   "source": []
  },
  {
   "cell_type": "code",
   "execution_count": null,
   "metadata": {},
   "outputs": [],
   "source": []
  }
 ],
 "metadata": {
  "kernelspec": {
   "display_name": "Python 3",
   "language": "python",
   "name": "python3"
  },
  "language_info": {
   "codemirror_mode": {
    "name": "ipython",
    "version": 3
   },
   "file_extension": ".py",
   "mimetype": "text/x-python",
   "name": "python",
   "nbconvert_exporter": "python",
   "pygments_lexer": "ipython3",
   "version": "3.7.4"
  }
 },
 "nbformat": 4,
 "nbformat_minor": 2
}
